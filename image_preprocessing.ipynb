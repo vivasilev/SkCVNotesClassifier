{
 "cells": [
  {
   "cell_type": "code",
   "execution_count": 1,
   "metadata": {},
   "outputs": [],
   "source": [
    "import numpy as np\n",
    "import cv2\n",
    "from matplotlib import pyplot as plt\n",
    "from PIL import Image\n",
    "import fitz\n",
    "import os\n",
    "from skimage.filters import (threshold_otsu, threshold_niblack,\n",
    "                             threshold_sauvola)"
   ]
  },
  {
   "cell_type": "code",
   "execution_count": 2,
   "metadata": {},
   "outputs": [],
   "source": [
    "window_size = 25\n",
    "const = 0\n",
    "folders = ['Bach', 'Beethoven']"
   ]
  },
  {
   "cell_type": "markdown",
   "metadata": {},
   "source": [
    "## From pdf to set of images"
   ]
  },
  {
   "cell_type": "code",
   "execution_count": null,
   "metadata": {},
   "outputs": [],
   "source": [
    "def filter_listdir(l):\n",
    "    return [el for el in l if el[-4:] == '.pdf']"
   ]
  },
  {
   "cell_type": "code",
   "execution_count": null,
   "metadata": {},
   "outputs": [],
   "source": [
    "for folder in folders:\n",
    "    pdfs = os.listdir(folder)\n",
    "    pdfs = filter_listdir(pdfs)\n",
    "    \n",
    "    index = 0\n",
    "    for pdf in pdfs:\n",
    "        pdffile = folder + '/' + pdf\n",
    "        doc = fitz.open(pdffile)\n",
    "        \n",
    "        for i in range(index, index + len(doc)):\n",
    "            page = doc.loadPage(i - index)  # number of page\n",
    "            pix = page.get_pixmap()\n",
    "            output = folder + '/images/' + folder.lower() + '_' + str(i).zfill(4) + \".jpg\"\n",
    "            pix.save(output)\n",
    "            \n",
    "        index = index + len(doc)"
   ]
  },
  {
   "cell_type": "markdown",
   "metadata": {},
   "source": [
    "## Remove edges"
   ]
  },
  {
   "cell_type": "code",
   "execution_count": null,
   "metadata": {},
   "outputs": [],
   "source": [
    "def remove_edges(im):\n",
    "    gray = cv2.cvtColor(im, cv2.COLOR_BGR2GRAY)\n",
    "    binary = gray > 100\n",
    "    _, contours, hierarchy = cv2.findContours(binary.astype('uint8'), cv2.RETR_CCOMP,cv2.CHAIN_APPROX_SIMPLE)\n",
    "\n",
    "    areas = [cv2.contourArea(cnt) for cnt in contours]\n",
    "    \n",
    "    index = np.argsort(areas)[-1]\n",
    "\n",
    "    x,y,w,h = cv2.boundingRect(contours[index])\n",
    "    \n",
    "    return im[y:y+h, x:x+w]\n",
    "    "
   ]
  },
  {
   "cell_type": "code",
   "execution_count": null,
   "metadata": {},
   "outputs": [],
   "source": [
    "im = cv2.imread('Bach/images/bach_0316.jpg')\n",
    "im_new = remove_edges(im)\n",
    "\n",
    "fig = plt.figure(figsize = (10,10))\n",
    "fig.add_subplot(1, 2, 1)\n",
    "plt.imshow(im)\n",
    "fig.add_subplot(1, 2, 2)\n",
    "plt.imshow(im_new[30:-30,30:-30])\n",
    "\n",
    "plt.show()"
   ]
  },
  {
   "cell_type": "code",
   "execution_count": null,
   "metadata": {},
   "outputs": [],
   "source": [
    "im = cv2.imread('Bach/images/bach_0029.jpg')\n",
    "im_new = remove_edges(im)\n",
    "\n",
    "fig = plt.figure(figsize = (10,10))\n",
    "fig.add_subplot(1, 2, 1)\n",
    "plt.imshow(im)\n",
    "fig.add_subplot(1, 2, 2)\n",
    "plt.imshow(im_new[30:-30,30:-30])\n",
    "\n",
    "plt.show()"
   ]
  },
  {
   "cell_type": "code",
   "execution_count": null,
   "metadata": {},
   "outputs": [],
   "source": [
    "im = cv2.imread('Beethoven/images/beethoven_0103.jpg')\n",
    "im_new = remove_edges(im)\n",
    "\n",
    "fig = plt.figure(figsize = (10,10))\n",
    "fig.add_subplot(1, 2, 1)\n",
    "plt.imshow(im)\n",
    "fig.add_subplot(1, 2, 2)\n",
    "plt.imshow(im_new[30:-30,30:-30])\n",
    "\n",
    "plt.show()"
   ]
  }
 ],
 "metadata": {
  "kernelspec": {
   "display_name": "Python 3",
   "language": "python",
   "name": "python3"
  },
  "language_info": {
   "codemirror_mode": {
    "name": "ipython",
    "version": 3
   },
   "file_extension": ".py",
   "mimetype": "text/x-python",
   "name": "python",
   "nbconvert_exporter": "python",
   "pygments_lexer": "ipython3",
   "version": "3.7.3"
  }
 },
 "nbformat": 4,
 "nbformat_minor": 2
}
